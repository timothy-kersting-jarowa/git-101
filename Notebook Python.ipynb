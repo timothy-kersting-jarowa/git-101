{
 "metadata": {
  "language_info": {
   "codemirror_mode": {
    "name": "ipython",
    "version": 3
   },
   "file_extension": ".py",
   "mimetype": "text/x-python",
   "name": "python",
   "nbconvert_exporter": "python",
   "pygments_lexer": "ipython3",
   "version": "3.8.5"
  },
  "orig_nbformat": 2,
  "kernelspec": {
   "name": "python385jvsc74a57bd0dca0ade3e726a953b501b15e8e990130d2b7799f14cfd9f4271676035ebe5511",
   "display_name": "Python 3.8.5 64-bit ('base': conda)"
  },
  "metadata": {
   "interpreter": {
    "hash": "dca0ade3e726a953b501b15e8e990130d2b7799f14cfd9f4271676035ebe5511"
   }
  }
 },
 "nbformat": 4,
 "nbformat_minor": 2,
 "cells": [
  {
   "cell_type": "code",
   "execution_count": 3,
   "metadata": {},
   "outputs": [
    {
     "output_type": "stream",
     "name": "stdout",
     "text": [
      "Kdo Zug:\nLt Flüeli Nicolas\nWm Meyer Tobias\nWm Meyer Stefan\nWm Bodensohn Sven\nWm Targa Gian-Luca\nWm Bisig Roger\nKpl Bitzer Dario\nAktueller Bestand:\n7\n"
     ]
    }
   ],
   "source": [
    "Grad = [\"Lt\", \"Wm\",\"Kpl\",\"Obgfr\", \"Gfr\", \"Sdt\"]\n",
    "Nachname = [\"Flüeli\", \"Meyer\", \"Bodensohn\", \"Targa\", \"Bisig\", \"Bitzer\"]\n",
    "Vorname = [\"Nicolas\", \"Tobias\", \"Stefan\", \"Sven\", \"Gian-Luca\", \"Roger\", \"Dario\"]\n",
    "\n",
    "print(\"Kdo Zug:\")\n",
    "\n",
    "print(f\"{Grad[0]} {Nachname[0]} {Vorname[0]}\")\n",
    "print(f\"{Grad[1]} {Nachname[1]} {Vorname[1]}\")\n",
    "print(f\"{Grad[1]} {Nachname[1]} {Vorname[2]}\")\n",
    "print(f\"{Grad[1]} {Nachname[2]} {Vorname[3]}\")\n",
    "print(f\"{Grad[1]} {Nachname[3]} {Vorname[4]}\")\n",
    "print(f\"{Grad[1]} {Nachname[4]} {Vorname[5]}\")\n",
    "print(f\"{Grad[2]} {Nachname[5]} {Vorname[6]}\")\n",
    "\n",
    "print(\"Aktueller Bestand:\")\n",
    "\n",
    "aktueller_bestand = len(Vorname)\n",
    "print(aktueller_bestand)\n"
   ]
  },
  {
   "cell_type": "code",
   "execution_count": 1,
   "metadata": {},
   "outputs": [
    {
     "output_type": "stream",
     "name": "stdout",
     "text": [
      "Zug Kdo:\n"
     ]
    },
    {
     "output_type": "error",
     "ename": "NameError",
     "evalue": "name 'Group' is not defined",
     "traceback": [
      "\u001b[0;31m---------------------------------------------------------------------------\u001b[0m",
      "\u001b[0;31mNameError\u001b[0m                                 Traceback (most recent call last)",
      "\u001b[0;32m<ipython-input-1-badf52fb8bf0>\u001b[0m in \u001b[0;36m<module>\u001b[0;34m\u001b[0m\n\u001b[1;32m     10\u001b[0m \u001b[0;34m\u001b[0m\u001b[0m\n\u001b[1;32m     11\u001b[0m \u001b[0mprint\u001b[0m\u001b[0;34m(\u001b[0m\u001b[0;34m\"Zug Kdo:\"\u001b[0m\u001b[0;34m)\u001b[0m\u001b[0;34m\u001b[0m\u001b[0;34m\u001b[0m\u001b[0m\n\u001b[0;32m---> 12\u001b[0;31m \u001b[0;32mfor\u001b[0m \u001b[0mperson\u001b[0m \u001b[0;32min\u001b[0m \u001b[0mGroup\u001b[0m\u001b[0;34m:\u001b[0m\u001b[0;34m\u001b[0m\u001b[0;34m\u001b[0m\u001b[0m\n\u001b[0m\u001b[1;32m     13\u001b[0m     \u001b[0mprint\u001b[0m\u001b[0;34m(\u001b[0m\u001b[0mperson\u001b[0m\u001b[0;34m)\u001b[0m\u001b[0;34m\u001b[0m\u001b[0;34m\u001b[0m\u001b[0m\n\u001b[1;32m     14\u001b[0m \u001b[0;34m\u001b[0m\u001b[0m\n",
      "\u001b[0;31mNameError\u001b[0m: name 'Group' is not defined"
     ]
    }
   ],
   "source": [
    "person_1 = (\"Lt\", \"Flühli\", \"Nicolas\")\n",
    "person_2 = (\"Wm\", \"Meyer\", \"Stefan\")\n",
    "person_3 = (\"Wm\", \"Meyer\", \"Tobias\")\n",
    "person_4 = (\"Wm\", \"Bodensohn\", \"Sven\")\n",
    "person_5 = (\"Wm\", \"Targa\", \"Gian-Luca\")\n",
    "person_6 = (\"Wm\", \"Bisig\", \"Roger\")\n",
    "person_7 = (\"Kpl\", \"Bitzer\", \"Dario\")\n",
    "person_8 = (\"Obgfr\", \"Stamm\", \"Olivier\")\n",
    "person_9 = (\"Gfr\", \"Kersting\", \"Timothy\")\n",
    "\n",
    "print(\"Zug Kdo:\")\n",
    "for person in Group:\n",
    "    print(person)\n",
    "\n",
    "Group = [person_1, person_2, person_3, person_4, person_5, person_6, person_7, person_8, person_9]\n",
    "\n",
    "print(\"Anzahl Personen im Zug\")\n",
    "AnzahlPersonen = (len(Group))\n",
    "print(AnzahlPersonen)\n"
   ]
  },
  {
   "cell_type": "code",
   "execution_count": null,
   "metadata": {},
   "outputs": [],
   "source": []
  }
 ]
}